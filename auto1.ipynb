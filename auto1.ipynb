{
 "cells": [
  {
   "cell_type": "code",
   "execution_count": 13,
   "id": "7c9843df-ac7e-4f45-a95f-64bb50e99ea1",
   "metadata": {},
   "outputs": [],
   "source": [
    "from selenium import webdriver"
   ]
  },
  {
   "cell_type": "code",
   "execution_count": 14,
   "id": "07c32d63-b37c-4eb2-9868-fc8a40c5f36e",
   "metadata": {},
   "outputs": [],
   "source": [
    "from selenium.webdriver.chrome.service import Service"
   ]
  },
  {
   "cell_type": "code",
   "execution_count": 15,
   "id": "38ad187b-6ab8-4d2f-ae79-1ef9aa0f5b57",
   "metadata": {},
   "outputs": [],
   "source": [
    "website='https://www.indiatoday.in/sports/cricket/story/emotional-virat-kohli-in-tears-after-rcbs-18-year-old-wait-for-ipl-title-ends-2735298-2025-06-03'"
   ]
  },
  {
   "cell_type": "code",
   "execution_count": 16,
   "id": "89186f76-0dcb-440b-a260-039fdb84660f",
   "metadata": {},
   "outputs": [],
   "source": [
    "path=r'C:\\Users\\Administrator\\Downloads\\chromedriver-win64\\my.py\\my.py.exe'"
   ]
  },
  {
   "cell_type": "code",
   "execution_count": 17,
   "id": "6fcb0994-4f49-428c-9fd2-3addd09cf57e",
   "metadata": {},
   "outputs": [],
   "source": [
    "service=Service(executable_path=path)"
   ]
  },
  {
   "cell_type": "code",
   "execution_count": 18,
   "id": "99d07884-0505-4a30-b68c-a721ee99f864",
   "metadata": {},
   "outputs": [],
   "source": [
    "driver=webdriver.Chrome(service=service)"
   ]
  },
  {
   "cell_type": "code",
   "execution_count": 19,
   "id": "b8240997-416d-445e-b357-d27e1126f076",
   "metadata": {},
   "outputs": [],
   "source": [
    "driver.get(website)"
   ]
  },
  {
   "cell_type": "code",
   "execution_count": null,
   "id": "552ff8dd-5c0c-4720-b8fe-334aa2653f74",
   "metadata": {},
   "outputs": [],
   "source": []
  }
 ],
 "metadata": {
  "kernelspec": {
   "display_name": "Python 3 (ipykernel)",
   "language": "python",
   "name": "python3"
  },
  "language_info": {
   "codemirror_mode": {
    "name": "ipython",
    "version": 3
   },
   "file_extension": ".py",
   "mimetype": "text/x-python",
   "name": "python",
   "nbconvert_exporter": "python",
   "pygments_lexer": "ipython3",
   "version": "3.12.3"
  }
 },
 "nbformat": 4,
 "nbformat_minor": 5
}
